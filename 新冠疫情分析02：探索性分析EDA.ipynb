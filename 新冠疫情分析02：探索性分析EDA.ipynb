{
 "cells": [
  {
   "cell_type": "code",
   "execution_count": 1,
   "metadata": {},
   "outputs": [],
   "source": [
    "import numpy as np \n",
    "import pandas as pd\n",
    "\n",
    "import json\n",
    "from datetime import date, datetime\n",
    "import datetime\n",
    "import requests"
   ]
  },
  {
   "cell_type": "code",
   "execution_count": 2,
   "metadata": {},
   "outputs": [
    {
     "name": "stdout",
     "output_type": "stream",
     "text": [
      "<class 'pandas.core.frame.DataFrame'>\n",
      "RangeIndex: 257 entries, 0 to 256\n",
      "Data columns (total 19 columns):\n",
      "cities                   257 non-null object\n",
      "comment                  257 non-null object\n",
      "confirmedCount           257 non-null int64\n",
      "continentEnglishName     257 non-null object\n",
      "continentName            257 non-null object\n",
      "countryEnglishName       257 non-null object\n",
      "countryFullName          218 non-null object\n",
      "countryName              257 non-null object\n",
      "curedCount               257 non-null int64\n",
      "currentConfirmedCount    257 non-null int64\n",
      "deadCount                257 non-null int64\n",
      "locationId               257 non-null int64\n",
      "provinceEnglishName      257 non-null object\n",
      "provinceName             257 non-null object\n",
      "provinceShortName        257 non-null object\n",
      "suspectedCount           257 non-null int64\n",
      "updateTime               257 non-null int64\n",
      "deadRate                 256 non-null float64\n",
      "curedRate                256 non-null float64\n",
      "dtypes: float64(2), int64(7), object(10)\n",
      "memory usage: 38.2+ KB\n"
     ]
    }
   ],
   "source": [
    "# 更新日期\n",
    "update_date = date.today()\n",
    "\n",
    "# 加载数据\n",
    "area_df = pd.read_csv(r'./api_datas/clean/area_clean_{}.csv'.format(update_date), encoding='utf-8')\n",
    "area_df.info()"
   ]
  },
  {
   "cell_type": "code",
   "execution_count": 3,
   "metadata": {},
   "outputs": [
    {
     "data": {
      "text/html": [
       "<div>\n",
       "<style scoped>\n",
       "    .dataframe tbody tr th:only-of-type {\n",
       "        vertical-align: middle;\n",
       "    }\n",
       "\n",
       "    .dataframe tbody tr th {\n",
       "        vertical-align: top;\n",
       "    }\n",
       "\n",
       "    .dataframe thead th {\n",
       "        text-align: right;\n",
       "    }\n",
       "</style>\n",
       "<table border=\"1\" class=\"dataframe\">\n",
       "  <thead>\n",
       "    <tr style=\"text-align: right;\">\n",
       "      <th></th>\n",
       "      <th>cities</th>\n",
       "      <th>comment</th>\n",
       "      <th>confirmedCount</th>\n",
       "      <th>continentEnglishName</th>\n",
       "      <th>continentName</th>\n",
       "      <th>countryEnglishName</th>\n",
       "      <th>countryFullName</th>\n",
       "      <th>countryName</th>\n",
       "      <th>curedCount</th>\n",
       "      <th>currentConfirmedCount</th>\n",
       "      <th>deadCount</th>\n",
       "      <th>locationId</th>\n",
       "      <th>provinceEnglishName</th>\n",
       "      <th>provinceName</th>\n",
       "      <th>provinceShortName</th>\n",
       "      <th>suspectedCount</th>\n",
       "      <th>updateTime</th>\n",
       "      <th>deadRate</th>\n",
       "      <th>curedRate</th>\n",
       "    </tr>\n",
       "  </thead>\n",
       "  <tbody>\n",
       "    <tr>\n",
       "      <th>0</th>\n",
       "      <td>暂无</td>\n",
       "      <td>暂无</td>\n",
       "      <td>16659</td>\n",
       "      <td>Asia</td>\n",
       "      <td>亚洲</td>\n",
       "      <td>Israel</td>\n",
       "      <td>Israel</td>\n",
       "      <td>以色列</td>\n",
       "      <td>13435</td>\n",
       "      <td>2946</td>\n",
       "      <td>278</td>\n",
       "      <td>955009</td>\n",
       "      <td>Israel</td>\n",
       "      <td>以色列</td>\n",
       "      <td>以色列</td>\n",
       "      <td>0</td>\n",
       "      <td>1589940101951</td>\n",
       "      <td>0.0167</td>\n",
       "      <td>0.8065</td>\n",
       "    </tr>\n",
       "    <tr>\n",
       "      <th>1</th>\n",
       "      <td>暂无</td>\n",
       "      <td>暂无</td>\n",
       "      <td>146</td>\n",
       "      <td>Africa</td>\n",
       "      <td>非洲</td>\n",
       "      <td>Mozambique</td>\n",
       "      <td>Mozambique</td>\n",
       "      <td>莫桑比克</td>\n",
       "      <td>48</td>\n",
       "      <td>98</td>\n",
       "      <td>0</td>\n",
       "      <td>984008</td>\n",
       "      <td>Mozambique</td>\n",
       "      <td>莫桑比克</td>\n",
       "      <td>莫桑比克</td>\n",
       "      <td>0</td>\n",
       "      <td>1589940101951</td>\n",
       "      <td>0.0000</td>\n",
       "      <td>0.3288</td>\n",
       "    </tr>\n",
       "    <tr>\n",
       "      <th>2</th>\n",
       "      <td>暂无</td>\n",
       "      <td>暂无</td>\n",
       "      <td>30572</td>\n",
       "      <td>Europe</td>\n",
       "      <td>欧洲</td>\n",
       "      <td>Belarus</td>\n",
       "      <td>Belarus</td>\n",
       "      <td>白俄罗斯</td>\n",
       "      <td>9932</td>\n",
       "      <td>20469</td>\n",
       "      <td>171</td>\n",
       "      <td>964001</td>\n",
       "      <td>Belarus</td>\n",
       "      <td>白俄罗斯</td>\n",
       "      <td>白俄罗斯</td>\n",
       "      <td>0</td>\n",
       "      <td>1589940101951</td>\n",
       "      <td>0.0056</td>\n",
       "      <td>0.3249</td>\n",
       "    </tr>\n",
       "    <tr>\n",
       "      <th>3</th>\n",
       "      <td>暂无</td>\n",
       "      <td>暂无</td>\n",
       "      <td>1502</td>\n",
       "      <td>Africa</td>\n",
       "      <td>非洲</td>\n",
       "      <td>Somali</td>\n",
       "      <td>Somalia</td>\n",
       "      <td>索马里</td>\n",
       "      <td>163</td>\n",
       "      <td>1280</td>\n",
       "      <td>59</td>\n",
       "      <td>985008</td>\n",
       "      <td>Somali</td>\n",
       "      <td>索马里</td>\n",
       "      <td>索马里</td>\n",
       "      <td>0</td>\n",
       "      <td>1589940101951</td>\n",
       "      <td>0.0393</td>\n",
       "      <td>0.1085</td>\n",
       "    </tr>\n",
       "    <tr>\n",
       "      <th>4</th>\n",
       "      <td>暂无</td>\n",
       "      <td>暂无</td>\n",
       "      <td>918</td>\n",
       "      <td>Asia</td>\n",
       "      <td>亚洲</td>\n",
       "      <td>Cyprus</td>\n",
       "      <td>Cyprus</td>\n",
       "      <td>塞浦路斯</td>\n",
       "      <td>504</td>\n",
       "      <td>388</td>\n",
       "      <td>26</td>\n",
       "      <td>955005</td>\n",
       "      <td>Cyprus</td>\n",
       "      <td>塞浦路斯</td>\n",
       "      <td>塞浦路斯</td>\n",
       "      <td>0</td>\n",
       "      <td>1589940101951</td>\n",
       "      <td>0.0283</td>\n",
       "      <td>0.5490</td>\n",
       "    </tr>\n",
       "  </tbody>\n",
       "</table>\n",
       "</div>"
      ],
      "text/plain": [
       "  cities comment  confirmedCount continentEnglishName continentName  \\\n",
       "0     暂无      暂无           16659                 Asia            亚洲   \n",
       "1     暂无      暂无             146               Africa            非洲   \n",
       "2     暂无      暂无           30572               Europe            欧洲   \n",
       "3     暂无      暂无            1502               Africa            非洲   \n",
       "4     暂无      暂无             918                 Asia            亚洲   \n",
       "\n",
       "  countryEnglishName countryFullName countryName  curedCount  \\\n",
       "0             Israel          Israel         以色列       13435   \n",
       "1         Mozambique      Mozambique        莫桑比克          48   \n",
       "2            Belarus         Belarus        白俄罗斯        9932   \n",
       "3             Somali         Somalia         索马里         163   \n",
       "4             Cyprus          Cyprus        塞浦路斯         504   \n",
       "\n",
       "   currentConfirmedCount  deadCount  locationId provinceEnglishName  \\\n",
       "0                   2946        278      955009              Israel   \n",
       "1                     98          0      984008          Mozambique   \n",
       "2                  20469        171      964001             Belarus   \n",
       "3                   1280         59      985008              Somali   \n",
       "4                    388         26      955005              Cyprus   \n",
       "\n",
       "  provinceName provinceShortName  suspectedCount     updateTime  deadRate  \\\n",
       "0          以色列               以色列               0  1589940101951    0.0167   \n",
       "1         莫桑比克              莫桑比克               0  1589940101951    0.0000   \n",
       "2         白俄罗斯              白俄罗斯               0  1589940101951    0.0056   \n",
       "3          索马里               索马里               0  1589940101951    0.0393   \n",
       "4         塞浦路斯              塞浦路斯               0  1589940101951    0.0283   \n",
       "\n",
       "   curedRate  \n",
       "0     0.8065  \n",
       "1     0.3288  \n",
       "2     0.3249  \n",
       "3     0.1085  \n",
       "4     0.5490  "
      ]
     },
     "execution_count": 3,
     "metadata": {},
     "output_type": "execute_result"
    }
   ],
   "source": [
    "area_df.head()"
   ]
  },
  {
   "cell_type": "code",
   "execution_count": 4,
   "metadata": {},
   "outputs": [
    {
     "data": {
      "text/plain": [
       "array(['暂无'], dtype=object)"
      ]
     },
     "execution_count": 4,
     "metadata": {},
     "output_type": "execute_result"
    }
   ],
   "source": [
    "# 过滤境外输入的记录信息 cities != '暂无'\n",
    "area = area_df[area_df['cities']=='暂无']\n",
    "area['cities'].unique()"
   ]
  },
  {
   "cell_type": "markdown",
   "metadata": {},
   "source": [
    "### 可视化探索分析"
   ]
  },
  {
   "cell_type": "code",
   "execution_count": 5,
   "metadata": {},
   "outputs": [],
   "source": [
    "## 设置\n",
    "import matplotlib.pyplot as plt\n",
    "%matplotlib inline\n",
    "\n",
    "# 设置绘图的字体，特别是中文字体需要注意，避免出现乱码的情况\n",
    "plt.rcParams['font.sans-serif'] = ['SimHei']\n",
    "plt.rcParams['axes.unicode_minus'] = False "
   ]
  },
  {
   "cell_type": "markdown",
   "metadata": {},
   "source": [
    "#### 各大洲确诊病例的统计情况（条形图）"
   ]
  },
  {
   "cell_type": "code",
   "execution_count": 6,
   "metadata": {},
   "outputs": [
    {
     "data": {
      "text/html": [
       "<div>\n",
       "<style scoped>\n",
       "    .dataframe tbody tr th:only-of-type {\n",
       "        vertical-align: middle;\n",
       "    }\n",
       "\n",
       "    .dataframe tbody tr th {\n",
       "        vertical-align: top;\n",
       "    }\n",
       "\n",
       "    .dataframe thead th {\n",
       "        text-align: right;\n",
       "    }\n",
       "</style>\n",
       "<table border=\"1\" class=\"dataframe\">\n",
       "  <thead>\n",
       "    <tr style=\"text-align: right;\">\n",
       "      <th></th>\n",
       "      <th>continentName</th>\n",
       "      <th>counts</th>\n",
       "    </tr>\n",
       "  </thead>\n",
       "  <tbody>\n",
       "    <tr>\n",
       "      <th>1</th>\n",
       "      <td>其他</td>\n",
       "      <td>733</td>\n",
       "    </tr>\n",
       "    <tr>\n",
       "      <th>4</th>\n",
       "      <td>大洋洲</td>\n",
       "      <td>8495</td>\n",
       "    </tr>\n",
       "    <tr>\n",
       "      <th>6</th>\n",
       "      <td>非洲</td>\n",
       "      <td>92078</td>\n",
       "    </tr>\n",
       "    <tr>\n",
       "      <th>3</th>\n",
       "      <td>南美洲</td>\n",
       "      <td>487157</td>\n",
       "    </tr>\n",
       "    <tr>\n",
       "      <th>0</th>\n",
       "      <td>亚洲</td>\n",
       "      <td>921166</td>\n",
       "    </tr>\n",
       "    <tr>\n",
       "      <th>2</th>\n",
       "      <td>北美洲</td>\n",
       "      <td>1692244</td>\n",
       "    </tr>\n",
       "    <tr>\n",
       "      <th>5</th>\n",
       "      <td>欧洲</td>\n",
       "      <td>1728151</td>\n",
       "    </tr>\n",
       "  </tbody>\n",
       "</table>\n",
       "</div>"
      ],
      "text/plain": [
       "  continentName   counts\n",
       "1            其他      733\n",
       "4           大洋洲     8495\n",
       "6            非洲    92078\n",
       "3           南美洲   487157\n",
       "0            亚洲   921166\n",
       "2           北美洲  1692244\n",
       "5            欧洲  1728151"
      ]
     },
     "execution_count": 6,
     "metadata": {},
     "output_type": "execute_result"
    }
   ],
   "source": [
    "# 对洲进行分组，计算各大洲的累计确诊病例\n",
    "confirmed_per_continent = area_df.groupby('continentName')['confirmedCount'].sum().reset_index()\n",
    "confirmed_per_continent.columns = [\"continentName\", \"counts\"]\n",
    "# 数量降序排列\n",
    "confirmed_per_continent = confirmed_per_continent.sort_values(by='counts')\n",
    "confirmed_per_continent"
   ]
  },
  {
   "cell_type": "code",
   "execution_count": 7,
   "metadata": {},
   "outputs": [
    {
     "data": {
      "image/png": "[encoded data removed]",
      "text/plain": [
       "<Figure size 864x432 with 1 Axes>"
      ]
     },
     "metadata": {},
     "output_type": "display_data"
    }
   ],
   "source": [
    "plt.figure(figsize=(12, 6))\n",
    "# 绘制水平柱状图：height为柱子相对高度，facecolor为柱子填充色，edgecolor为柱子边缘色\n",
    "plt.barh(confirmed_per_continent['continentName'].values.tolist(), \n",
    "         confirmed_per_continent['counts'].values.tolist(), \n",
    "         height=0.6, \n",
    "         facecolor='#EE6363', edgecolor='#FFB90F', \n",
    "         label=\"确诊人数\", alpha=0.8)\n",
    "# 其他属性设置\n",
    "plt.title(\"各大洲新冠确诊人数\", fontsize=15)\n",
    "plt.grid(axis='x', linestyle='--')\n",
    "plt.xticks(fontsize=12)\n",
    "plt.yticks(fontsize=12)\n",
    "plt.legend()\n",
    "plt.show();"
   ]
  },
  {
   "cell_type": "markdown",
   "metadata": {},
   "source": [
    " - 从以上图表可以看出，确诊病例最多的3个大洲分别是欧洲，北美洲，亚洲。其中欧洲病例数已经突破100万，北美洲确诊数次之。"
   ]
  },
  {
   "cell_type": "code",
   "execution_count": 8,
   "metadata": {},
   "outputs": [
    {
     "data": {
      "text/html": [
       "<div>\n",
       "<style scoped>\n",
       "    .dataframe tbody tr th:only-of-type {\n",
       "        vertical-align: middle;\n",
       "    }\n",
       "\n",
       "    .dataframe tbody tr th {\n",
       "        vertical-align: top;\n",
       "    }\n",
       "\n",
       "    .dataframe thead th {\n",
       "        text-align: right;\n",
       "    }\n",
       "</style>\n",
       "<table border=\"1\" class=\"dataframe\">\n",
       "  <thead>\n",
       "    <tr style=\"text-align: right;\">\n",
       "      <th></th>\n",
       "      <th>countryName</th>\n",
       "      <th>confirmedCount</th>\n",
       "      <th>currentConfirmedCount</th>\n",
       "      <th>curedCount</th>\n",
       "      <th>deadCount</th>\n",
       "    </tr>\n",
       "  </thead>\n",
       "  <tbody>\n",
       "    <tr>\n",
       "      <th>45</th>\n",
       "      <td>美国</td>\n",
       "      <td>1525367</td>\n",
       "      <td>1144245</td>\n",
       "      <td>289392</td>\n",
       "      <td>91730</td>\n",
       "    </tr>\n",
       "    <tr>\n",
       "      <th>43</th>\n",
       "      <td>俄罗斯</td>\n",
       "      <td>299941</td>\n",
       "      <td>220974</td>\n",
       "      <td>76130</td>\n",
       "      <td>2837</td>\n",
       "    </tr>\n",
       "    <tr>\n",
       "      <th>7</th>\n",
       "      <td>巴西</td>\n",
       "      <td>271628</td>\n",
       "      <td>146863</td>\n",
       "      <td>106794</td>\n",
       "      <td>17971</td>\n",
       "    </tr>\n",
       "    <tr>\n",
       "      <th>69</th>\n",
       "      <td>英国</td>\n",
       "      <td>248818</td>\n",
       "      <td>212938</td>\n",
       "      <td>539</td>\n",
       "      <td>35341</td>\n",
       "    </tr>\n",
       "    <tr>\n",
       "      <th>22</th>\n",
       "      <td>西班牙</td>\n",
       "      <td>232037</td>\n",
       "      <td>53883</td>\n",
       "      <td>150376</td>\n",
       "      <td>27778</td>\n",
       "    </tr>\n",
       "    <tr>\n",
       "      <th>94</th>\n",
       "      <td>意大利</td>\n",
       "      <td>226699</td>\n",
       "      <td>65129</td>\n",
       "      <td>129401</td>\n",
       "      <td>32169</td>\n",
       "    </tr>\n",
       "    <tr>\n",
       "      <th>52</th>\n",
       "      <td>德国</td>\n",
       "      <td>175210</td>\n",
       "      <td>11503</td>\n",
       "      <td>155700</td>\n",
       "      <td>8007</td>\n",
       "    </tr>\n",
       "    <tr>\n",
       "      <th>122</th>\n",
       "      <td>土耳其</td>\n",
       "      <td>151615</td>\n",
       "      <td>34521</td>\n",
       "      <td>112895</td>\n",
       "      <td>4199</td>\n",
       "    </tr>\n",
       "    <tr>\n",
       "      <th>117</th>\n",
       "      <td>法国</td>\n",
       "      <td>143427</td>\n",
       "      <td>52842</td>\n",
       "      <td>62563</td>\n",
       "      <td>28022</td>\n",
       "    </tr>\n",
       "    <tr>\n",
       "      <th>67</th>\n",
       "      <td>伊朗</td>\n",
       "      <td>124603</td>\n",
       "      <td>20311</td>\n",
       "      <td>97173</td>\n",
       "      <td>7119</td>\n",
       "    </tr>\n",
       "  </tbody>\n",
       "</table>\n",
       "</div>"
      ],
      "text/plain": [
       "    countryName  confirmedCount  currentConfirmedCount  curedCount  deadCount\n",
       "45           美国         1525367                1144245      289392      91730\n",
       "43          俄罗斯          299941                 220974       76130       2837\n",
       "7            巴西          271628                 146863      106794      17971\n",
       "69           英国          248818                 212938         539      35341\n",
       "22          西班牙          232037                  53883      150376      27778\n",
       "94          意大利          226699                  65129      129401      32169\n",
       "52           德国          175210                  11503      155700       8007\n",
       "122         土耳其          151615                  34521      112895       4199\n",
       "117          法国          143427                  52842       62563      28022\n",
       "67           伊朗          124603                  20311       97173       7119"
      ]
     },
     "execution_count": 8,
     "metadata": {},
     "output_type": "execute_result"
    }
   ],
   "source": [
    "## 查看累计确诊数排名前10的国家疫情基本信息\n",
    "confirmed_top10 = area.sort_values(by=\"confirmedCount\", ascending=False)[['countryName', 'confirmedCount', 'currentConfirmedCount', 'curedCount', 'deadCount']].head(10)\n",
    "confirmed_top10"
   ]
  },
  {
   "cell_type": "code",
   "execution_count": 9,
   "metadata": {},
   "outputs": [],
   "source": [
    "# 计算确诊数前10国家的治愈率和死亡率\n",
    "confirmed_top10['curedRate'] = (confirmed_top10['curedCount'] / confirmed_top10['confirmedCount']).apply(lambda x: round(x, 4))\n",
    "confirmed_top10['deadRate'] = (confirmed_top10['deadCount'] / confirmed_top10['confirmedCount']).apply(lambda x: round(x, 4))"
   ]
  },
  {
   "cell_type": "code",
   "execution_count": 10,
   "metadata": {},
   "outputs": [
    {
     "data": {
      "text/html": [
       "<div>\n",
       "<style scoped>\n",
       "    .dataframe tbody tr th:only-of-type {\n",
       "        vertical-align: middle;\n",
       "    }\n",
       "\n",
       "    .dataframe tbody tr th {\n",
       "        vertical-align: top;\n",
       "    }\n",
       "\n",
       "    .dataframe thead th {\n",
       "        text-align: right;\n",
       "    }\n",
       "</style>\n",
       "<table border=\"1\" class=\"dataframe\">\n",
       "  <thead>\n",
       "    <tr style=\"text-align: right;\">\n",
       "      <th></th>\n",
       "      <th>countryName</th>\n",
       "      <th>confirmedCount</th>\n",
       "      <th>currentConfirmedCount</th>\n",
       "      <th>curedCount</th>\n",
       "      <th>deadCount</th>\n",
       "      <th>curedRate</th>\n",
       "      <th>deadRate</th>\n",
       "    </tr>\n",
       "  </thead>\n",
       "  <tbody>\n",
       "    <tr>\n",
       "      <th>45</th>\n",
       "      <td>美国</td>\n",
       "      <td>1525367</td>\n",
       "      <td>1144245</td>\n",
       "      <td>289392</td>\n",
       "      <td>91730</td>\n",
       "      <td>0.1897</td>\n",
       "      <td>0.0601</td>\n",
       "    </tr>\n",
       "    <tr>\n",
       "      <th>43</th>\n",
       "      <td>俄罗斯</td>\n",
       "      <td>299941</td>\n",
       "      <td>220974</td>\n",
       "      <td>76130</td>\n",
       "      <td>2837</td>\n",
       "      <td>0.2538</td>\n",
       "      <td>0.0095</td>\n",
       "    </tr>\n",
       "    <tr>\n",
       "      <th>7</th>\n",
       "      <td>巴西</td>\n",
       "      <td>271628</td>\n",
       "      <td>146863</td>\n",
       "      <td>106794</td>\n",
       "      <td>17971</td>\n",
       "      <td>0.3932</td>\n",
       "      <td>0.0662</td>\n",
       "    </tr>\n",
       "    <tr>\n",
       "      <th>69</th>\n",
       "      <td>英国</td>\n",
       "      <td>248818</td>\n",
       "      <td>212938</td>\n",
       "      <td>539</td>\n",
       "      <td>35341</td>\n",
       "      <td>0.0022</td>\n",
       "      <td>0.1420</td>\n",
       "    </tr>\n",
       "    <tr>\n",
       "      <th>22</th>\n",
       "      <td>西班牙</td>\n",
       "      <td>232037</td>\n",
       "      <td>53883</td>\n",
       "      <td>150376</td>\n",
       "      <td>27778</td>\n",
       "      <td>0.6481</td>\n",
       "      <td>0.1197</td>\n",
       "    </tr>\n",
       "    <tr>\n",
       "      <th>94</th>\n",
       "      <td>意大利</td>\n",
       "      <td>226699</td>\n",
       "      <td>65129</td>\n",
       "      <td>129401</td>\n",
       "      <td>32169</td>\n",
       "      <td>0.5708</td>\n",
       "      <td>0.1419</td>\n",
       "    </tr>\n",
       "    <tr>\n",
       "      <th>52</th>\n",
       "      <td>德国</td>\n",
       "      <td>175210</td>\n",
       "      <td>11503</td>\n",
       "      <td>155700</td>\n",
       "      <td>8007</td>\n",
       "      <td>0.8886</td>\n",
       "      <td>0.0457</td>\n",
       "    </tr>\n",
       "    <tr>\n",
       "      <th>122</th>\n",
       "      <td>土耳其</td>\n",
       "      <td>151615</td>\n",
       "      <td>34521</td>\n",
       "      <td>112895</td>\n",
       "      <td>4199</td>\n",
       "      <td>0.7446</td>\n",
       "      <td>0.0277</td>\n",
       "    </tr>\n",
       "    <tr>\n",
       "      <th>117</th>\n",
       "      <td>法国</td>\n",
       "      <td>143427</td>\n",
       "      <td>52842</td>\n",
       "      <td>62563</td>\n",
       "      <td>28022</td>\n",
       "      <td>0.4362</td>\n",
       "      <td>0.1954</td>\n",
       "    </tr>\n",
       "    <tr>\n",
       "      <th>67</th>\n",
       "      <td>伊朗</td>\n",
       "      <td>124603</td>\n",
       "      <td>20311</td>\n",
       "      <td>97173</td>\n",
       "      <td>7119</td>\n",
       "      <td>0.7799</td>\n",
       "      <td>0.0571</td>\n",
       "    </tr>\n",
       "  </tbody>\n",
       "</table>\n",
       "</div>"
      ],
      "text/plain": [
       "    countryName  confirmedCount  currentConfirmedCount  curedCount  deadCount  \\\n",
       "45           美国         1525367                1144245      289392      91730   \n",
       "43          俄罗斯          299941                 220974       76130       2837   \n",
       "7            巴西          271628                 146863      106794      17971   \n",
       "69           英国          248818                 212938         539      35341   \n",
       "22          西班牙          232037                  53883      150376      27778   \n",
       "94          意大利          226699                  65129      129401      32169   \n",
       "52           德国          175210                  11503      155700       8007   \n",
       "122         土耳其          151615                  34521      112895       4199   \n",
       "117          法国          143427                  52842       62563      28022   \n",
       "67           伊朗          124603                  20311       97173       7119   \n",
       "\n",
       "     curedRate  deadRate  \n",
       "45      0.1897    0.0601  \n",
       "43      0.2538    0.0095  \n",
       "7       0.3932    0.0662  \n",
       "69      0.0022    0.1420  \n",
       "22      0.6481    0.1197  \n",
       "94      0.5708    0.1419  \n",
       "52      0.8886    0.0457  \n",
       "122     0.7446    0.0277  \n",
       "117     0.4362    0.1954  \n",
       "67      0.7799    0.0571  "
      ]
     },
     "execution_count": 10,
     "metadata": {},
     "output_type": "execute_result"
    }
   ],
   "source": [
    "confirmed_top10"
   ]
  },
  {
   "cell_type": "code",
   "execution_count": 11,
   "metadata": {},
   "outputs": [
    {
     "data": {
      "text/plain": [
       "Text(0.5,1,'主要国家新冠治愈率和死亡率关系的散点图')"
      ]
     },
     "execution_count": 11,
     "metadata": {},
     "output_type": "execute_result"
    },
    {
     "data": {
      "image/png": "[encoded data removed]",
      "text/plain": [
       "<Figure size 432x288 with 1 Axes>"
      ]
     },
     "metadata": {},
     "output_type": "display_data"
    }
   ],
   "source": [
    "## 绘制疫情主要国家治愈率和死亡率关系的散点图\n",
    "plt.scatter(confirmed_top10['curedRate'], confirmed_top10['deadRate'], c='green', marker='o', alpha=0.8)\n",
    "plt.xlim([0, 1])\n",
    "plt.ylim([0, 0.2])\n",
    "plt.xlabel(\"治愈率（%）\")\n",
    "plt.ylabel(\"死亡率（%）\")\n",
    "plt.title(\"主要国家新冠治愈率和死亡率关系的散点图\", fontsize=15)"
   ]
  },
  {
   "cell_type": "code",
   "execution_count": 12,
   "metadata": {},
   "outputs": [
    {
     "data": {
      "text/plain": [
       "Text(0.5,1,'所有国家新冠治愈率和死亡率关系的散点图')"
      ]
     },
     "execution_count": 12,
     "metadata": {},
     "output_type": "execute_result"
    },
    {
     "data": {
      "image/png": "[encoded data removed]",
      "text/plain": [
       "<Figure size 432x288 with 1 Axes>"
      ]
     },
     "metadata": {},
     "output_type": "display_data"
    }
   ],
   "source": [
    "## 绘制所有国家治愈率和死亡率关系的散点图\n",
    "plt.scatter(area['curedRate'], area['deadRate'], c='blue', marker='o', alpha=0.8)\n",
    "plt.xlim([0, 1])\n",
    "plt.ylim([0, 0.3])\n",
    "plt.xlabel(\"治愈率（%）\")\n",
    "plt.ylabel(\"死亡率（%）\")\n",
    "plt.title(\"所有国家新冠治愈率和死亡率关系的散点图\", fontsize=15)"
   ]
  },
  {
   "cell_type": "markdown",
   "metadata": {},
   "source": [
    " - 由上图可知，世界各国的总体死亡率在0~25%之间，但是治愈率有着很大差别。这与各国采取的防疫措施，医疗条件的差异有密切联系。"
   ]
  },
  {
   "cell_type": "markdown",
   "metadata": {},
   "source": [
    "### 治愈率均线图"
   ]
  },
  {
   "cell_type": "code",
   "execution_count": 13,
   "metadata": {},
   "outputs": [
    {
     "data": {
      "image/png": "[encoded data removed]",
      "text/plain": [
       "<Figure size 864x432 with 1 Axes>"
      ]
     },
     "metadata": {},
     "output_type": "display_data"
    }
   ],
   "source": [
    "plt.figure(figsize=(12,6))\n",
    "plt.plot(confirmed_top10['countryName'], confirmed_top10['curedRate'], color=\"#A0522D\", alpha=0.8, label=\"治愈率\", linewidth=2, linestyle=\"-\")\n",
    "# 绘制数据的均线，并进行颜色填充\n",
    "curedRate_mean = area['curedRate'].mean()   # 计算全世界国家新冠治愈率的平均值\n",
    "plt.fill_between(confirmed_top10['countryName'], curedRate_mean, confirmed_top10['curedRate'], color=\"#CD853F\")    # 填充均值线于图线（参数y1和y2围成区域）之间围城的区域\n",
    "plt.title(\"主要国家新冠治愈率与世界平均治愈率的对比\", fontsize=15)\n",
    "plt.legend()\n",
    "plt.show();"
   ]
  },
  {
   "cell_type": "markdown",
   "metadata": {},
   "source": [
    "### 从以上治愈率均线图可以看出，确诊病例前10国家中，美国，英国治愈率低于世界平均；而其他均高于世界平均治愈率。其中德国，伊朗，土耳其的治愈率位列前三。"
   ]
  },
  {
   "cell_type": "code",
   "execution_count": null,
   "metadata": {},
   "outputs": [],
   "source": []
  }
 ],
 "metadata": {
  "kernelspec": {
   "display_name": "Python 3",
   "language": "python",
   "name": "python3"
  },
  "language_info": {
   "codemirror_mode": {
    "name": "ipython",
    "version": 3
   },
   "file_extension": ".py",
   "mimetype": "text/x-python",
   "name": "python",
   "nbconvert_exporter": "python",
   "pygments_lexer": "ipython3",
   "version": "3.6.5"
  }
 },
 "nbformat": 4,
 "nbformat_minor": 2
}
