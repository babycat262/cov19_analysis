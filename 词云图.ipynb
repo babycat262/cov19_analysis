{
 "cells": [
  {
   "cell_type": "code",
   "execution_count": null,
   "metadata": {},
   "outputs": [],
   "source": [
    "import re, json\n",
    "\n",
    "import pyecharts.options as opts\n",
    "from pyecharts.charts import WordCloud"
   ]
  },
  {
   "cell_type": "code",
   "execution_count": null,
   "metadata": {},
   "outputs": [],
   "source": [
    "# 从文件加载数据\n",
    "with open(\"./api_datas/topics.json\",mode='r', encoding='utf-8') as f:\n",
    "    text = json.load(f)\n",
    "\n",
    "print(type(text))\n",
    "print(text)"
   ]
  },
  {
   "cell_type": "code",
   "execution_count": null,
   "metadata": {},
   "outputs": [],
   "source": [
    "topic_list = []\n",
    "for e in text:\n",
    "    for item in e.items():\n",
    "        topic_list.append(item)"
   ]
  },
  {
   "cell_type": "code",
   "execution_count": null,
   "metadata": {},
   "outputs": [],
   "source": [
    "wc = WordCloud()\n",
    "(\n",
    "    wc.add(series_name=\"热点话题\", data_pair=topic_list, word_size_range=[6, 66])\n",
    "      .set_global_opts(title_opts=opts.TitleOpts(title=\"热点话题\", \n",
    "                                                 title_textstyle_opts=opts.TextStyleOpts(font_size=23)),\n",
    "                                                 tooltip_opts=opts.TooltipOpts(is_show=True),\n",
    "    )\n",
    ")\n",
    "wc.render_notebook()"
   ]
  },
  {
   "cell_type": "code",
   "execution_count": null,
   "metadata": {},
   "outputs": [],
   "source": []
  },
  {
   "cell_type": "code",
   "execution_count": null,
   "metadata": {},
   "outputs": [],
   "source": []
  }
 ],
 "metadata": {
  "kernelspec": {
   "display_name": "Python [conda env:env_py36]",
   "language": "python",
   "name": "conda-env-env_py36-py"
  },
  "language_info": {
   "codemirror_mode": {
    "name": "ipython",
    "version": 3
   },
   "file_extension": ".py",
   "mimetype": "text/x-python",
   "name": "python",
   "nbconvert_exporter": "python",
   "pygments_lexer": "ipython3",
   "version": "3.6.5"
  }
 },
 "nbformat": 4,
 "nbformat_minor": 2
}
